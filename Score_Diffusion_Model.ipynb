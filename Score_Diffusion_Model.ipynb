{
  "nbformat": 4,
  "nbformat_minor": 0,
  "metadata": {
    "colab": {
      "provenance": [],
      "collapsed_sections": []
    },
    "kernelspec": {
      "name": "python3",
      "display_name": "Python 3"
    },
    "language_info": {
      "name": "python"
    },
    "accelerator": "GPU",
    "gpuClass": "standard"
  },
  "cells": [
    {
      "cell_type": "code",
      "execution_count": null,
      "metadata": {
        "id": "09al40w3kyCN"
      },
      "outputs": [],
      "source": [
        "import torch\n",
        "import torch.nn as nn\n",
        "import torch.nn.functional as F\n",
        "import numpy as np\n",
        "import functools\n",
        "from torch.optim import Adam\n",
        "from torch.utils.data import DataLoader\n",
        "import torchvision.transforms as transforms\n",
        "from torchvision.datasets import MNIST\n",
        "import tqdm\n",
        "import copy"
      ]
    },
    {
      "cell_type": "code",
      "source": [
        "#@title Defining a time-dependent score-based model\n",
        "\n",
        "class TimeEncoding(nn.Module):\n",
        "\n",
        "  def __init__(self, embed_dim, scale=30.):\n",
        "    super().__init__()\n",
        "    # Randomly sample weights during initialization. These weights are fixed\n",
        "    # during optimization and are not trainable.\n",
        "    self.W = nn.Parameter(torch.randn(embed_dim // 2) * scale, requires_grad=False)\n",
        "  \n",
        "  def forward(self, x):\n",
        "    x_proj = x[:, None] * self.W[None, :] * 2 * np.pi\n",
        "    return torch.cat([torch.sin(x_proj), torch.cos(x_proj)], dim=-1)\n",
        "\n",
        "class Dense(nn.Module):\n",
        "  \"\"\"A fully connected layer that reshapes outputs to feature maps.\"\"\"\n",
        "  def __init__(self, input_dim, output_dim):\n",
        "    super().__init__()\n",
        "    self.dense = nn.Linear(input_dim, output_dim)\n",
        "  \n",
        "  def forward(self,x):\n",
        "    return self.dense(x)[..., None, None] # expand two dimensions in the end\n",
        "\n",
        "class ScoreNet(nn.Module):\n",
        "\n",
        "  def __init__(self, marginal_prob_std, channels=[32, 64, 128, 256], embed_dim=256):\n",
        "    \"\"\"Initial a time-dependent score-based network.\n",
        "    Args:\n",
        "    marginal_prob_std: A function that takes time t and gives the standard\n",
        "     deviation of the perturabtion kernel p_{0t}(x(t) | x(0)).\n",
        "    channels: The number of channels for feature maps of each solution.\n",
        "    embed_dim: The dimensionality of Gaussian random feature embeddings.\n",
        "    \"\"\"\n",
        "    super().__init__()\n",
        "    # Gaussian random feature embedding layer for time\n",
        "    self.embed = nn.Sequential(TimeEncoding(embed_dim=embed_dim), nn.Linear(embed_dim, embed_dim)) # time embedding\n",
        "\n",
        "    # Encoder part of U-net\n",
        "    self.conv1 = nn.Conv2d(1, channels[0], 3, stride=1, bias=False)\n",
        "    self.dense1 = Dense(embed_dim, channels[0])\n",
        "    self.gnorm1 = nn.GroupNorm(4, num_channels=channels[0])\n",
        "    self.conv2 = nn.Conv2d(channels[0], channels[1], 3, stride=2, bias=False)\n",
        "    self.dense2 = Dense(embed_dim,channels[1])\n",
        "    self.gnorm2 = nn.GroupNorm(32, num_channels=channels[1])\n",
        "    self.conv3 = nn.Conv2d(channels[1], channels[2], 3, stride=2, bias=False)\n",
        "    self.dense3 = Dense(embed_dim, channels[2])\n",
        "    self.gnorm3 = nn.GroupNorm(32, num_channels=channels[2])\n",
        "    self.conv4 = nn.Conv2d(channels[2], channels[3], 3, stride=2, bias=False)\n",
        "    self.dense4 = Dense(embed_dim, channels[3])\n",
        "    self.gnorm4 = nn.GroupNorm(32, num_channels=channels[3])\n",
        "\n",
        "    # Decoder part of U-net\n",
        "    self.tconv4 = nn.ConvTranspose2d(channels[3], channels[2], 3, stride=2, bias=False)\n",
        "    self.dense5 = Dense(embed_dim, channels[2])\n",
        "    self.tgnorm4 = nn.GroupNorm(32, num_channels=channels[2])\n",
        "    self.tconv3 = nn.ConvTranspose2d(channels[2] + channels[2], channels[1], 3, stride=2, bias=False, output_padding=1)\n",
        "    self.dense6 = Dense(embed_dim, channels[1])\n",
        "    self.tgnorm3 = nn.GroupNorm(32, num_channels=channels[1])\n",
        "    self.tconv2 = nn.ConvTranspose2d(channels[1] + channels[1], channels[0], 3, stride=2, bias=False, output_padding=1)\n",
        "    self.dense7 = Dense(embed_dim, channels[0])\n",
        "    self.tgnorm2 = nn.GroupNorm(32, num_channels=channels[0])\n",
        "\n",
        "    # The swish activation f(x) = x*sigmoid(x)\n",
        "    self.act = lambda x: x * torch.sigmoid(x)\n",
        "\n",
        "    self.tconv1 = nn.ConvTranspose2d(channels[0] + channels[0], 1, 3, stride=1)\n",
        "    self.marginal_prob_std = marginal_prob_std\n",
        "  \n",
        "  def forward(self, x, t):\n",
        "    # time embedding\n",
        "    embed = self.act(self.embed(t))\n",
        "\n",
        "    # encoder part\n",
        "    h1 = self.conv1(x)\n",
        "    h1 += self.dense1(embed)\n",
        "    h1 = self.gnorm1(h1)\n",
        "    h1 = self.act(h1)\n",
        "    h2 = self.conv2(h1)\n",
        "    h2 += self.dense2(embed)\n",
        "    h2 = self.gnorm2(h2)\n",
        "    h2 = self.act(h2)\n",
        "    h3 = self.conv3(h2)\n",
        "    h3 += self.dense3(embed)\n",
        "    h3 = self.gnorm3(h3)\n",
        "    h3 = self.act(h3)\n",
        "    h4 = self.conv4(h3)\n",
        "    h4 += self.dense4(embed)\n",
        "    h4 = self.gnorm4(h4)\n",
        "    h4 = self.act(h4)\n",
        "\n",
        "    # decoder part\n",
        "    h = self.tconv4(h4)\n",
        "    h += self.dense5(embed)\n",
        "    h = self.tgnorm4(h)\n",
        "    h = self.act(h)\n",
        "    h = self.tconv3(torch.cat([h,h3], dim=1))\n",
        "    h += self.dense6(embed)\n",
        "    h = self.tgnorm3(h)\n",
        "    h = self.act(h)\n",
        "    h = self.tconv2(torch.cat([h,h2], dim=1))\n",
        "    h += self.dense7(embed)\n",
        "    h = self.tgnorm2(h)\n",
        "    h = self.act(h)\n",
        "    h = self.tconv1(torch.cat([h,h1], dim=1))\n",
        "\n",
        "    # Normalize output\n",
        "    h = h / self.marginal_prob_std(t)[:, None, None, None] \n",
        "\n",
        "    return h"
      ],
      "metadata": {
        "id": "UX-5qpENRRe0"
      },
      "execution_count": null,
      "outputs": []
    },
    {
      "cell_type": "markdown",
      "source": [
        "Define the SDE and Denoising Score Matching Objectives\n",
        "\n",
        "SDE is hand-designed.\n",
        "\n",
        "First of all, we need to specify an SDE that perturbs the data distribution $p_0$ to a prior distribution $p_T$. We choose the following SDE.\n",
        "\n",
        "$dx = σ^{t}dw$, $t\\in[0,1]$\n",
        "\n",
        "In this case,\n",
        "\n",
        "$p_{0t}(x(t)|x(0))=N(x(t),x(0),\\frac{1}{2\\logσ}(σ^{2t}-1)I)$\n",
        "\n",
        "and we can choose the weighting function $λ(t)=variance=\\frac{1}{2\\logσ}(σ^{2t}-1)$.\n",
        "\n",
        "When $\\sigma$ is large, the prior distribution, $p_{t=1}$ is\n",
        "\n",
        "$\\int p_{0}(y)N(x;y,\\frac{1}{2\\logσ}(σ^{2}-1)I)dy ≈ N(x;0,\\frac{1}{2\\logσ}(σ^{2}-1)I)$,\n",
        "\n",
        "which is approximately independent of the data distribution and is easy to sample from.\n",
        "\n",
        "Intuitively, this SDE captures a continuum of Gaussian perturbations with variance function $\\frac{1}{2\\logσ}(σ^{2t}-1)$. This continuum of perturbations allows us to gradually transfer samples from a data distribution $p_0$ to a sample Gaussain distribution $p_1$.\n"
      ],
      "metadata": {
        "id": "hX4HTZ2sqSRj"
      }
    },
    {
      "cell_type": "code",
      "source": [
        "device = 'cuda'\n",
        "\n",
        "def marginal_prob_std(t, sigma):\n",
        "  # Calcualte the standard deviation of perturbed Gaussian distribution of time t\n",
        "  t = torch.tensor(t, device=device)\n",
        "  return torch.sqrt((sigma**(2*t)-1.)/2./np.log(sigma))\n",
        "\n",
        "def diffusion_coeff(t, sigma):\n",
        "  # Calculate the diffusion coefficient of time t\n",
        "  return torch.tensor(sigma**t, device=device)\n",
        "\n",
        "sigma = 25.0\n",
        "marginal_prob_std_fn = functools.partial(marginal_prob_std, sigma=sigma)\n",
        "diffusion_coeff_fn = functools.partial(diffusion_coeff, sigma=sigma)"
      ],
      "metadata": {
        "id": "ZWQu7w_d5Abm"
      },
      "execution_count": null,
      "outputs": []
    },
    {
      "cell_type": "code",
      "source": [
        "def loss_fn(model, x, marginal_prob_std, eps=1e-5):\n",
        "  \"\"\"The loss function for training score-based generative models\n",
        "  Args:\n",
        "   model: A PyTorch model instance that represents a time-dependent\n",
        "    score-based model.\n",
        "   x: A mini-batch of training data.\n",
        "   marginal_prob_std: A function that gives the standard deviation of \n",
        "    the perturbation kernel\n",
        "   eps: A tolerance value for numerical stability\n",
        "  \"\"\"\n",
        "  # Step1: Randomly generate float t from [0.00001, 0.9999]\n",
        "  random_t = torch.rand(x.shape[0], device=x.device) * (1.- eps) + eps\n",
        "\n",
        "  # Step2: Building a distribution p_t(x) based on reparameter\n",
        "  z = torch.randn_like(x)\n",
        "  std = marginal_prob_std(random_t)\n",
        "  perturbed_x = x + z * std[:, None, None, None]\n",
        "\n",
        "  # Step3: Predict the score by inputing the noised sample and time into score network\n",
        "  score = score_model(perturbed_x, random_t)\n",
        "\n",
        "  # Step4: Caculate the score matching loss\n",
        "  loss = torch.mean(torch.sum((score * std[:, None, None, None] + z)**2, dim=(1,2,3)))\n",
        "  return loss"
      ],
      "metadata": {
        "id": "OhUyCLOu2vgN"
      },
      "execution_count": null,
      "outputs": []
    },
    {
      "cell_type": "code",
      "source": [
        "class EMA(nn.Module):\n",
        "  def __init__(self, model, decay=0.9999, device = None):\n",
        "    super(EMA, self).__init__()\n",
        "    # Make a copy of the model for accumulating moving average of weights\n",
        "    self.module = copy.deepcopy(model)\n",
        "    self.module.eval()\n",
        "    self.dacay = decay\n",
        "    self.device = device\n",
        "    if self.device is not None:\n",
        "      self.module.to(device=device)\n",
        "    \n",
        "  \n",
        "  def _update(self, model, update_fn):\n",
        "    with torch.no_grad():\n",
        "      for ema_v, model_v in zip(self.module.state_dict().values(), model.state_dict().values()):\n",
        "        if self.device is not None:\n",
        "          model_v = model_v.to(device = self.device)\n",
        "          ema_v.copy_(update_fn(ema_v, model_v))\n",
        "  \n",
        "  def update(self, model):\n",
        "    self._update(model, update_fn=lambda e, m: self.decay * e + (1. - self.decay) * m)\n",
        "  \n",
        "  def set(self, model):\n",
        "    self._update(model, update_fn=lambda e, m: m)"
      ],
      "metadata": {
        "id": "Fy-7rEE-BCLN"
      },
      "execution_count": null,
      "outputs": []
    },
    {
      "cell_type": "code",
      "source": [
        "#@title Training score-based model on MNIST data\n",
        "\n",
        "score_model = torch.nn.DataParallel(ScoreNet(marginal_prob_std = marginal_prob_std_fn))\n",
        "score_model = score_model.to(device)\n",
        "\n",
        "n_epochs = 50 \n",
        "## size of a mini-batch\n",
        "batch_size = 32 \n",
        "## learning rate\n",
        "lr = 1e-4 \n",
        "\n",
        "dataset = MNIST('.', train=True, transform=transforms.ToTensor(), download=True)\n",
        "data_loader = DataLoader(dataset, batch_size=batch_size, num_workers=4)\n",
        "\n",
        "optimizer = Adam(score_model.parameters(), lr=lr)\n",
        "tqdm_epoch = tqdm.tqdm(range(n_epochs))\n",
        "\n",
        "ema = EMA(score_model)\n",
        "for epoch in tqdm_epoch:\n",
        "  avg_loss = 0.\n",
        "  num_items = 0\n",
        "  for x, y in data_loader:\n",
        "    x = x.to(device)\n",
        "    loss = loss_fn(score_model, x, marginal_prob_std_fn)\n",
        "    optimizer.zero_grad()\n",
        "    loss.backward()\n",
        "    optimizer.step()\n",
        "    ema.update(score_model)\n",
        "    avg_loss += loss.item() * x.shape[0]\n",
        "    num_items += x.shape[0]\n",
        "  \n",
        "  print('Average ScoreMatching Loss: {:5f}'.format(avg_loss/num_items))\n",
        "  torch.save(score_model.state_dict(),'ckpt.pth')"
      ],
      "metadata": {
        "colab": {
          "base_uri": "https://localhost:8080/"
        },
        "id": "rodK9GrxDSRW",
        "outputId": "fcf2cd48-6322-4558-cd39-0cfde673e9bc"
      },
      "execution_count": null,
      "outputs": [
        {
          "output_type": "stream",
          "name": "stderr",
          "text": [
            "/usr/local/lib/python3.7/dist-packages/torch/utils/data/dataloader.py:566: UserWarning: This DataLoader will create 4 worker processes in total. Our suggested max number of worker in current system is 2, which is smaller than what this DataLoader is going to create. Please be aware that excessive worker creation might get DataLoader running slow or even freeze, lower the worker number to avoid potential slowness/freeze if necessary.\n",
            "  cpuset_checked))\n",
            "  0%|          | 0/50 [00:00<?, ?it/s]/usr/local/lib/python3.7/dist-packages/ipykernel_launcher.py:5: UserWarning: To copy construct from a tensor, it is recommended to use sourceTensor.clone().detach() or sourceTensor.clone().detach().requires_grad_(True), rather than torch.tensor(sourceTensor).\n",
            "  \"\"\"\n",
            "  2%|▏         | 1/50 [00:30<24:32, 30.06s/it]"
          ]
        },
        {
          "output_type": "stream",
          "name": "stdout",
          "text": [
            "Average ScoreMatching Loss: 332.266146\n"
          ]
        },
        {
          "output_type": "stream",
          "name": "stderr",
          "text": [
            "\r  4%|▍         | 2/50 [00:59<23:50, 29.80s/it]"
          ]
        },
        {
          "output_type": "stream",
          "name": "stdout",
          "text": [
            "Average ScoreMatching Loss: 67.990469\n"
          ]
        },
        {
          "output_type": "stream",
          "name": "stderr",
          "text": [
            "\r  6%|▌         | 3/50 [01:28<23:10, 29.58s/it]"
          ]
        },
        {
          "output_type": "stream",
          "name": "stdout",
          "text": [
            "Average ScoreMatching Loss: 43.361176\n"
          ]
        },
        {
          "output_type": "stream",
          "name": "stderr",
          "text": [
            "\r  8%|▊         | 4/50 [01:58<22:38, 29.53s/it]"
          ]
        },
        {
          "output_type": "stream",
          "name": "stdout",
          "text": [
            "Average ScoreMatching Loss: 34.229797\n"
          ]
        },
        {
          "output_type": "stream",
          "name": "stderr",
          "text": [
            "\r 10%|█         | 5/50 [02:31<23:12, 30.94s/it]"
          ]
        },
        {
          "output_type": "stream",
          "name": "stdout",
          "text": [
            "Average ScoreMatching Loss: 28.985060\n"
          ]
        },
        {
          "output_type": "stream",
          "name": "stderr",
          "text": [
            "\r 12%|█▏        | 6/50 [03:06<23:33, 32.12s/it]"
          ]
        },
        {
          "output_type": "stream",
          "name": "stdout",
          "text": [
            "Average ScoreMatching Loss: 26.117364\n"
          ]
        },
        {
          "output_type": "stream",
          "name": "stderr",
          "text": [
            "\r 14%|█▍        | 7/50 [03:38<23:04, 32.20s/it]"
          ]
        },
        {
          "output_type": "stream",
          "name": "stdout",
          "text": [
            "Average ScoreMatching Loss: 24.295052\n"
          ]
        },
        {
          "output_type": "stream",
          "name": "stderr",
          "text": [
            "\r 16%|█▌        | 8/50 [04:12<22:47, 32.57s/it]"
          ]
        },
        {
          "output_type": "stream",
          "name": "stdout",
          "text": [
            "Average ScoreMatching Loss: 23.184444\n"
          ]
        },
        {
          "output_type": "stream",
          "name": "stderr",
          "text": [
            "\r 18%|█▊        | 9/50 [04:48<23:07, 33.84s/it]"
          ]
        },
        {
          "output_type": "stream",
          "name": "stdout",
          "text": [
            "Average ScoreMatching Loss: 22.492994\n"
          ]
        },
        {
          "output_type": "stream",
          "name": "stderr",
          "text": [
            "\r 20%|██        | 10/50 [05:23<22:47, 34.18s/it]"
          ]
        },
        {
          "output_type": "stream",
          "name": "stdout",
          "text": [
            "Average ScoreMatching Loss: 22.023980\n"
          ]
        },
        {
          "output_type": "stream",
          "name": "stderr",
          "text": [
            "\r 22%|██▏       | 11/50 [05:54<21:32, 33.14s/it]"
          ]
        },
        {
          "output_type": "stream",
          "name": "stdout",
          "text": [
            "Average ScoreMatching Loss: 21.182223\n"
          ]
        },
        {
          "output_type": "stream",
          "name": "stderr",
          "text": [
            "\r 24%|██▍       | 12/50 [06:25<20:32, 32.44s/it]"
          ]
        },
        {
          "output_type": "stream",
          "name": "stdout",
          "text": [
            "Average ScoreMatching Loss: 20.854390\n"
          ]
        },
        {
          "output_type": "stream",
          "name": "stderr",
          "text": [
            "\r 26%|██▌       | 13/50 [06:57<20:01, 32.46s/it]"
          ]
        },
        {
          "output_type": "stream",
          "name": "stdout",
          "text": [
            "Average ScoreMatching Loss: 20.414589\n"
          ]
        },
        {
          "output_type": "stream",
          "name": "stderr",
          "text": [
            "\r 28%|██▊       | 14/50 [07:27<19:02, 31.73s/it]"
          ]
        },
        {
          "output_type": "stream",
          "name": "stdout",
          "text": [
            "Average ScoreMatching Loss: 20.256302\n"
          ]
        },
        {
          "output_type": "stream",
          "name": "stderr",
          "text": [
            "\r 30%|███       | 15/50 [07:57<18:14, 31.26s/it]"
          ]
        },
        {
          "output_type": "stream",
          "name": "stdout",
          "text": [
            "Average ScoreMatching Loss: 19.939998\n"
          ]
        },
        {
          "output_type": "stream",
          "name": "stderr",
          "text": [
            "\r 32%|███▏      | 16/50 [08:29<17:43, 31.27s/it]"
          ]
        },
        {
          "output_type": "stream",
          "name": "stdout",
          "text": [
            "Average ScoreMatching Loss: 19.537960\n"
          ]
        },
        {
          "output_type": "stream",
          "name": "stderr",
          "text": [
            "\r 34%|███▍      | 17/50 [09:03<17:39, 32.10s/it]"
          ]
        },
        {
          "output_type": "stream",
          "name": "stdout",
          "text": [
            "Average ScoreMatching Loss: 19.737103\n"
          ]
        },
        {
          "output_type": "stream",
          "name": "stderr",
          "text": [
            "\r 36%|███▌      | 18/50 [09:37<17:25, 32.66s/it]"
          ]
        },
        {
          "output_type": "stream",
          "name": "stdout",
          "text": [
            "Average ScoreMatching Loss: 19.333817\n"
          ]
        },
        {
          "output_type": "stream",
          "name": "stderr",
          "text": [
            "\r 38%|███▊      | 19/50 [10:12<17:20, 33.55s/it]"
          ]
        },
        {
          "output_type": "stream",
          "name": "stdout",
          "text": [
            "Average ScoreMatching Loss: 19.256349\n"
          ]
        },
        {
          "output_type": "stream",
          "name": "stderr",
          "text": [
            "\r 40%|████      | 20/50 [10:46<16:44, 33.48s/it]"
          ]
        },
        {
          "output_type": "stream",
          "name": "stdout",
          "text": [
            "Average ScoreMatching Loss: 18.961876\n"
          ]
        },
        {
          "output_type": "stream",
          "name": "stderr",
          "text": [
            "\r 42%|████▏     | 21/50 [11:23<16:43, 34.60s/it]"
          ]
        },
        {
          "output_type": "stream",
          "name": "stdout",
          "text": [
            "Average ScoreMatching Loss: 18.870047\n"
          ]
        },
        {
          "output_type": "stream",
          "name": "stderr",
          "text": [
            "\r 44%|████▍     | 22/50 [11:59<16:18, 34.94s/it]"
          ]
        },
        {
          "output_type": "stream",
          "name": "stdout",
          "text": [
            "Average ScoreMatching Loss: 18.674115\n"
          ]
        },
        {
          "output_type": "stream",
          "name": "stderr",
          "text": [
            "\r 46%|████▌     | 23/50 [12:33<15:40, 34.83s/it]"
          ]
        },
        {
          "output_type": "stream",
          "name": "stdout",
          "text": [
            "Average ScoreMatching Loss: 18.592271\n"
          ]
        },
        {
          "output_type": "stream",
          "name": "stderr",
          "text": [
            "\r 48%|████▊     | 24/50 [13:08<15:04, 34.79s/it]"
          ]
        },
        {
          "output_type": "stream",
          "name": "stdout",
          "text": [
            "Average ScoreMatching Loss: 18.457499\n"
          ]
        },
        {
          "output_type": "stream",
          "name": "stderr",
          "text": [
            "\r 50%|█████     | 25/50 [13:42<14:21, 34.45s/it]"
          ]
        },
        {
          "output_type": "stream",
          "name": "stdout",
          "text": [
            "Average ScoreMatching Loss: 18.394485\n"
          ]
        },
        {
          "output_type": "stream",
          "name": "stderr",
          "text": [
            "\r 52%|█████▏    | 26/50 [14:18<14:04, 35.18s/it]"
          ]
        },
        {
          "output_type": "stream",
          "name": "stdout",
          "text": [
            "Average ScoreMatching Loss: 18.237297\n"
          ]
        },
        {
          "output_type": "stream",
          "name": "stderr",
          "text": [
            "\r 54%|█████▍    | 27/50 [14:53<13:22, 34.90s/it]"
          ]
        },
        {
          "output_type": "stream",
          "name": "stdout",
          "text": [
            "Average ScoreMatching Loss: 18.109726\n"
          ]
        },
        {
          "output_type": "stream",
          "name": "stderr",
          "text": [
            "\r 56%|█████▌    | 28/50 [15:23<12:18, 33.56s/it]"
          ]
        },
        {
          "output_type": "stream",
          "name": "stdout",
          "text": [
            "Average ScoreMatching Loss: 18.045845\n"
          ]
        },
        {
          "output_type": "stream",
          "name": "stderr",
          "text": [
            "\r 58%|█████▊    | 29/50 [15:53<11:22, 32.52s/it]"
          ]
        },
        {
          "output_type": "stream",
          "name": "stdout",
          "text": [
            "Average ScoreMatching Loss: 18.188076\n"
          ]
        },
        {
          "output_type": "stream",
          "name": "stderr",
          "text": [
            "\r 60%|██████    | 30/50 [16:23<10:33, 31.68s/it]"
          ]
        },
        {
          "output_type": "stream",
          "name": "stdout",
          "text": [
            "Average ScoreMatching Loss: 17.834168\n"
          ]
        },
        {
          "output_type": "stream",
          "name": "stderr",
          "text": [
            "\r 62%|██████▏   | 31/50 [16:52<09:49, 31.04s/it]"
          ]
        },
        {
          "output_type": "stream",
          "name": "stdout",
          "text": [
            "Average ScoreMatching Loss: 17.941078\n"
          ]
        },
        {
          "output_type": "stream",
          "name": "stderr",
          "text": [
            "\r 64%|██████▍   | 32/50 [17:23<09:18, 31.02s/it]"
          ]
        },
        {
          "output_type": "stream",
          "name": "stdout",
          "text": [
            "Average ScoreMatching Loss: 17.830016\n"
          ]
        },
        {
          "output_type": "stream",
          "name": "stderr",
          "text": [
            "\r 66%|██████▌   | 33/50 [17:56<08:53, 31.41s/it]"
          ]
        },
        {
          "output_type": "stream",
          "name": "stdout",
          "text": [
            "Average ScoreMatching Loss: 17.782108\n"
          ]
        },
        {
          "output_type": "stream",
          "name": "stderr",
          "text": [
            "\r 68%|██████▊   | 34/50 [18:31<08:42, 32.64s/it]"
          ]
        },
        {
          "output_type": "stream",
          "name": "stdout",
          "text": [
            "Average ScoreMatching Loss: 17.899054\n"
          ]
        },
        {
          "output_type": "stream",
          "name": "stderr",
          "text": [
            "\r 70%|███████   | 35/50 [19:06<08:19, 33.30s/it]"
          ]
        },
        {
          "output_type": "stream",
          "name": "stdout",
          "text": [
            "Average ScoreMatching Loss: 17.560763\n"
          ]
        },
        {
          "output_type": "stream",
          "name": "stderr",
          "text": [
            "\r 72%|███████▏  | 36/50 [19:39<07:42, 33.06s/it]"
          ]
        },
        {
          "output_type": "stream",
          "name": "stdout",
          "text": [
            "Average ScoreMatching Loss: 17.584174\n"
          ]
        },
        {
          "output_type": "stream",
          "name": "stderr",
          "text": [
            "\r 74%|███████▍  | 37/50 [20:13<07:16, 33.56s/it]"
          ]
        },
        {
          "output_type": "stream",
          "name": "stdout",
          "text": [
            "Average ScoreMatching Loss: 17.672966\n"
          ]
        },
        {
          "output_type": "stream",
          "name": "stderr",
          "text": [
            "\r 76%|███████▌  | 38/50 [20:45<06:37, 33.09s/it]"
          ]
        },
        {
          "output_type": "stream",
          "name": "stdout",
          "text": [
            "Average ScoreMatching Loss: 17.450756\n"
          ]
        },
        {
          "output_type": "stream",
          "name": "stderr",
          "text": [
            "\r 78%|███████▊  | 39/50 [21:16<05:55, 32.36s/it]"
          ]
        },
        {
          "output_type": "stream",
          "name": "stdout",
          "text": [
            "Average ScoreMatching Loss: 17.366048\n"
          ]
        },
        {
          "output_type": "stream",
          "name": "stderr",
          "text": [
            "\r 80%|████████  | 40/50 [21:50<05:29, 32.99s/it]"
          ]
        },
        {
          "output_type": "stream",
          "name": "stdout",
          "text": [
            "Average ScoreMatching Loss: 17.426649\n"
          ]
        },
        {
          "output_type": "stream",
          "name": "stderr",
          "text": [
            "\r 82%|████████▏ | 41/50 [22:23<04:56, 32.92s/it]"
          ]
        },
        {
          "output_type": "stream",
          "name": "stdout",
          "text": [
            "Average ScoreMatching Loss: 17.446091\n"
          ]
        },
        {
          "output_type": "stream",
          "name": "stderr",
          "text": [
            "\r 84%|████████▍ | 42/50 [22:57<04:24, 33.04s/it]"
          ]
        },
        {
          "output_type": "stream",
          "name": "stdout",
          "text": [
            "Average ScoreMatching Loss: 17.316653\n"
          ]
        },
        {
          "output_type": "stream",
          "name": "stderr",
          "text": [
            "\r 86%|████████▌ | 43/50 [23:32<03:56, 33.81s/it]"
          ]
        },
        {
          "output_type": "stream",
          "name": "stdout",
          "text": [
            "Average ScoreMatching Loss: 17.207223\n"
          ]
        },
        {
          "output_type": "stream",
          "name": "stderr",
          "text": [
            "\r 88%|████████▊ | 44/50 [24:05<03:20, 33.42s/it]"
          ]
        },
        {
          "output_type": "stream",
          "name": "stdout",
          "text": [
            "Average ScoreMatching Loss: 17.324729\n"
          ]
        },
        {
          "output_type": "stream",
          "name": "stderr",
          "text": [
            "\r 90%|█████████ | 45/50 [24:38<02:46, 33.39s/it]"
          ]
        },
        {
          "output_type": "stream",
          "name": "stdout",
          "text": [
            "Average ScoreMatching Loss: 17.117696\n"
          ]
        },
        {
          "output_type": "stream",
          "name": "stderr",
          "text": [
            "\r 92%|█████████▏| 46/50 [25:11<02:12, 33.22s/it]"
          ]
        },
        {
          "output_type": "stream",
          "name": "stdout",
          "text": [
            "Average ScoreMatching Loss: 17.180634\n"
          ]
        },
        {
          "output_type": "stream",
          "name": "stderr",
          "text": [
            "\r 94%|█████████▍| 47/50 [25:42<01:38, 32.68s/it]"
          ]
        },
        {
          "output_type": "stream",
          "name": "stdout",
          "text": [
            "Average ScoreMatching Loss: 17.004033\n"
          ]
        },
        {
          "output_type": "stream",
          "name": "stderr",
          "text": [
            "\r 96%|█████████▌| 48/50 [26:12<01:03, 31.95s/it]"
          ]
        },
        {
          "output_type": "stream",
          "name": "stdout",
          "text": [
            "Average ScoreMatching Loss: 17.114570\n"
          ]
        },
        {
          "output_type": "stream",
          "name": "stderr",
          "text": [
            "\r 98%|█████████▊| 49/50 [26:43<00:31, 31.51s/it]"
          ]
        },
        {
          "output_type": "stream",
          "name": "stdout",
          "text": [
            "Average ScoreMatching Loss: 17.075222\n"
          ]
        },
        {
          "output_type": "stream",
          "name": "stderr",
          "text": [
            "100%|██████████| 50/50 [27:16<00:00, 32.74s/it]"
          ]
        },
        {
          "output_type": "stream",
          "name": "stdout",
          "text": [
            "Average ScoreMatching Loss: 17.145068\n"
          ]
        },
        {
          "output_type": "stream",
          "name": "stderr",
          "text": [
            "\n"
          ]
        }
      ]
    },
    {
      "cell_type": "code",
      "source": [
        "## The number of sampling steps.\n",
        "num_steps = 500\n",
        "def euler_sampler(score_model, marginal_prob_std, diffusion_coeff, batch_size=64, num_steps = num_steps, device='cuda', eps=1e-3):\n",
        "  # Step1: Initialize prior distribution\n",
        "  t = torch.ones(batch_size, device = device)\n",
        "  init_x = torch.randn(batch_size, 1, 28, 28, device=device) * marginal_prob_std(t)[:, None, None, None]\n",
        "  # Step2: Define the sampling t and the time step\n",
        "  time_steps = torch.linspace(1., eps, num_steps, device=device)\n",
        "  step_size = time_steps[0] - time_steps[1]\n",
        "\n",
        "  # Steps3: Calculate SDE\n",
        "  x = init_x\n",
        "  with torch.no_grad():\n",
        "    for time_step in tqdm.tqdm(time_steps):\n",
        "      batch_time_step = torch.ones(batch_size, device=device) * time_step\n",
        "      g = diffusion_coeff(batch_time_step)\n",
        "      mean_x = x + (g**2)[:, None, None, None] * score_model(x, batch_time_step) * step_size\n",
        "      x = mean_x + torch.sqrt(step_size) * g[:, None, None, None] * torch.randn_like(x)\n",
        "  \n",
        "  #Step4: Take the epection of the final step as the sample\n",
        "  return mean_x"
      ],
      "metadata": {
        "id": "WFqus2jWIRpP"
      },
      "execution_count": null,
      "outputs": []
    },
    {
      "cell_type": "code",
      "source": [
        "signal_to_noise_ratio = 0.16\n",
        "num_steps = 500\n",
        "def pc_sampler(score_model, marginal_prob_std, diffusion_coeff, batch_size=64, num_steps=num_steps,snr=signal_to_noise_ratio,  device='cuda', eps=1e-3):\n",
        "  \"\"\" Generate samplers from score-based models with Predictor-Corrector method\n",
        "\n",
        "  Args:\n",
        "   score_model: A PyTorch model instance that represents a time-dependent\n",
        "    score-based model.\n",
        "   marginal_prob_std: A function that gives the standard deviation of \n",
        "    the perturbation kernel.\n",
        "   diffusion_coeff: A function that gives the diffusion coefficient\n",
        "    of the SDE.\n",
        "   batch_size: The number of samplers to generate by calling this function \n",
        "    once.\n",
        "   num_steps: The numer of sampling of discretized time steps.\n",
        "   device: 'cuda' for running on GPUs, and 'cpu' for running on CPUs.\n",
        "   eps: A tolerance value for numerical stability. \n",
        "  \n",
        "  Returns:\n",
        "   Samples.\n",
        "  \"\"\"\n",
        "  # Step1: Initialize the prior distribution samples\n",
        "  t = torch.ones(batch_size, device = device)\n",
        "  init_x = torch.randn(batch_size, 1, 28, 28, device=device) * marginal_prob_std(t)[:, None, None, None]\n",
        "\n",
        "  # Step2: Define the sampling t and the time step\n",
        "  time_steps = torch.linspace(1., eps, num_steps)\n",
        "  step_size = time_steps[0] - time_steps[1]\n",
        "\n",
        "  # Step3: Langevin sampling\n",
        "  x = init_x\n",
        "  with torch.no_grad():\n",
        "    for time_step in tqdm.tqdm(time_steps):\n",
        "      batch_time_step = torch.ones(batch_size, device=device) * time_step\n",
        "\n",
        "      grad = score_model(x, batch_time_step)\n",
        "      grad_norm = torch.norm(grad.reshape(grad.shape[0],-1),dim=-1).mean()\n",
        "      noise_norm = np.sqrt(np.prod(x.shape[1:]))\n",
        "      langevin_step_size = 2*(snr * noise_norm / grad_norm)**2\n",
        "     \n",
        "      for _ in range(20):\n",
        "        x = x + langevin_step_size * grad + torch.sqrt(2*langevin_step_size) * torch.randn_like(x)\n",
        "        grad = score_model(x, batch_time_step)\n",
        "        grad_norm = torch.norm(grad.reshape(grad.shape[0],-1),dim=-1).mean()\n",
        "        noise_norm = np.sqrt(np.prod(x.shape[1:]))\n",
        "        langevin_step_size = 2*(snr * noise_norm / grad_norm)**2\n",
        "      \n",
        "\n",
        "\n",
        "    # Predict step (Euler-Maruyama)\n",
        "    g = diffusion_coeff(batch_time_step)\n",
        "    x_mean = x + (g**2)[:, None, None, None] * score_model(x, batch_time_step) * step_size\n",
        "    x = x_mean + torch.sqrt(g**2 * step_size)[:, None, None, None] * torch.randn_like(x)\n",
        "  \n",
        "  return x_mean"
      ],
      "metadata": {
        "id": "IMZ5EBKpONs_"
      },
      "execution_count": null,
      "outputs": []
    },
    {
      "cell_type": "code",
      "source": [
        "from scipy import integrate\n",
        "\n",
        "## The error tolerance for the black-box ODE solver\n",
        "error_tolerance = 1e-5 \n",
        "def ode_sampler(score_model, marginal_prob_std, diffusion_coeff, batch_size=64, atol=error_tolerance, rtol=error_tolerance, device='cuda', z=None, eps=1e-3):\n",
        "  t = torch.ones(batch_size, device=device)\n",
        "  if z is None:\n",
        "    init_x = torch.randn(batch_size, 1, 28, 28, device=device) * marginal_prob_std(t)[:, None, None, None]\n",
        "  else:\n",
        "    init_x = z\n",
        "  \n",
        "  shape = init_x.shape\n",
        "\n",
        "  # Step2: Define score predicting function\n",
        "  def score_eval_wrapper(sample, time_steps):\n",
        "    \"\"\"A warpper of the score-based model for use by the ODE soler\"\"\"\n",
        "    sample = torch.tensor(sample, device=device, dtype=torch.float32).reshape(shape)\n",
        "    time_steps = torch.tensor(time_steps, device=device, dtype=torch.float32).reshape((sample.shape[0], ))\n",
        "    with torch.no_grad():\n",
        "      score = score_model(sample,time_steps)\n",
        "    return score.cpu().numpy().reshape((-1,)).astype(np.float64)\n",
        "\n",
        "  def ode_func(t, x):\n",
        "    \"\"\"The ODE function for use by the ODE solver.\"\"\"\n",
        "    time_steps = np.ones((shape[0],)) * t\n",
        "    g = diffusion_coeff(torch.tensor(t)).cpu().numpy()\n",
        "    return -0.5 * (g**2) * score_eval_wrapper(x, time_steps)\n",
        "  \n",
        "  res = integrate.solve_ivp(ode_func, (1., eps), init_x.reshape(-1).cpu().numpy(), rtol=rtol, atol=atol, method='RK45')\n",
        "  print(f\"Number of function evaluations: {res.nfev}\")\n",
        "\n",
        "  x = torch.tensor(res.y[:,-1],device = device).reshape(shape)\n",
        "  return x\n",
        "                                                        \n",
        "                                                  \n"
      ],
      "metadata": {
        "id": "Caw9i2a9ScFy"
      },
      "execution_count": null,
      "outputs": []
    },
    {
      "cell_type": "code",
      "source": [
        "from torchvision.utils import make_grid\n",
        "import time\n",
        "\n",
        "## Load the pre-trained checkpoint from disk.\n",
        "device = 'cuda'\n",
        "ckpt = torch.load('ckpt.pth', map_location=device)\n",
        "score_model.load_state_dict(ckpt)\n",
        "\n",
        "sample_batch_size = 64\n",
        "sampler = pc_sampler # One of {'euler_sampler', 'pc_sampler', 'ode_sampler'}\n",
        "\n",
        "t1 = time.time()\n",
        "## Generate samples using the specified sampler\n",
        "samples = sampler(score_model, marginal_prob_std_fn, diffusion_coeff_fn, sample_batch_size, device=device)\n",
        "t2 = time.time()\n",
        "print(f'{str(sampler)} takes {t2-t1}s')\n",
        "\n",
        "## Sample visualization.\n",
        "samples = samples.clamp(0.0, 1.0)\n",
        "%matplotlib inline\n",
        "import matplotlib.pyplot as plt \n",
        "sample_grid = make_grid(samples, nrow= int(np.sqrt(sample_batch_size)))\n",
        "plt.figure(figsize=(6,6))\n",
        "plt.axis('off')\n",
        "plt.imshow(sample_grid.permute(1, 2, 0).cpu(), vmin=0., vmax=1.)\n",
        "plt.show()"
      ],
      "metadata": {
        "colab": {
          "base_uri": "https://localhost:8080/",
          "height": 487
        },
        "id": "RKEXOO1FWuLU",
        "outputId": "0f59527c-2175-4c1e-f471-e4a9204f2b10"
      },
      "execution_count": null,
      "outputs": [
        {
          "output_type": "stream",
          "name": "stderr",
          "text": [
            "/usr/local/lib/python3.7/dist-packages/ipykernel_launcher.py:5: UserWarning: To copy construct from a tensor, it is recommended to use sourceTensor.clone().detach() or sourceTensor.clone().detach().requires_grad_(True), rather than torch.tensor(sourceTensor).\n",
            "  \"\"\"\n",
            "100%|██████████| 500/500 [00:47<00:00, 10.54it/s]\n",
            "/usr/local/lib/python3.7/dist-packages/ipykernel_launcher.py:10: UserWarning: To copy construct from a tensor, it is recommended to use sourceTensor.clone().detach() or sourceTensor.clone().detach().requires_grad_(True), rather than torch.tensor(sourceTensor).\n",
            "  # Remove the CWD from sys.path while we load stuff.\n"
          ]
        },
        {
          "output_type": "stream",
          "name": "stdout",
          "text": [
            "<function pc_sampler at 0x7f3e022f89e0> takes 47.43396878242493s\n"
          ]
        },
        {
          "output_type": "display_data",
          "data": {
            "text/plain": [
              "<Figure size 432x432 with 1 Axes>"
            ],
            "image/png": "[encoded data removed]"
          },
          "metadata": {
            "needs_background": "light"
          }
        }
      ]
    },
    {
      "cell_type": "code",
      "source": [],
      "metadata": {
        "id": "_UgvR45JY0IO"
      },
      "execution_count": null,
      "outputs": []
    }
  ]
}